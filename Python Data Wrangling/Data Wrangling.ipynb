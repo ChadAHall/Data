{
 "cells": [
  {
   "cell_type": "markdown",
   "metadata": {},
   "source": [
    "# Data Wrangling OpenStreetMap Data\n",
    "## Introduction\n",
    "In this notebook we will be tackling the process of retreiving map data from a source, OpenStreetMap, auditing it, parsing to from XML to JSON, and then loading it into MongoDB."
   ]
  },
  {
   "attachments": {},
   "cell_type": "markdown",
   "metadata": {},
   "source": [
    "### The Map:\n",
    "https://www.openstreetmap.org/export#map=13/30.1274/-97.8108"
   ]
  },
  {
   "cell_type": "markdown",
   "metadata": {},
   "source": [
    "The reason I have chosen this area is because a few of my friends recently moved to this area. Since I know nothing of the area, I figured that it would be pretty neat to use it for this project. They moved to a neighborhood called 'Onion Creek', which is named after the creek that runs by it. From what I have looked up, it doesn't belong to any certain town or village inside of Austin, so I have tried to encompass a few that are adjacent to it.\n",
    "\n",
    "This first step, since I already have the map downloaded, is to import various Python libraries that will be used in this project:"
   ]
  },
  {
   "cell_type": "code",
   "execution_count": 20,
   "metadata": {},
   "outputs": [],
   "source": [
    "import DataWranglingFunctions as dw\n",
    "import pprint\n",
    "import dns\n",
    "from collections import defaultdict, Counter\n",
    "from pymongo import MongoClient"
   ]
  },
  {
   "cell_type": "markdown",
   "metadata": {},
   "source": [
    "#### There are more libaries used, but they are imported with DataWranglingScript. \n",
    "\n",
    "#### A few  important tags and explanations:\n",
    " - node: Defines a point in space\n",
    " - relation: Describes the relations between two objects, such as a turn restriction or a route\n",
    " - tag: Describes meaning of the element they are attached to\n",
    " - way: Represents linear features\n",
    "#### Later on, when we are transferring XML to JSON, we will be sorting into node and way.\n"
   ]
  },
  {
   "cell_type": "code",
   "execution_count": 22,
   "metadata": {},
   "outputs": [],
   "source": [
    "osmfile = 'oncrknew.osm'"
   ]
  },
  {
   "cell_type": "code",
   "execution_count": 3,
   "metadata": {},
   "outputs": [
    {
     "name": "stdout",
     "output_type": "stream",
     "text": [
      "Attributes and count in the OSM file: \n",
      "\n",
      "{'changeset': 311003,\n",
      " 'generator': 1,\n",
      " 'id': 311003,\n",
      " 'k': 99773,\n",
      " 'lat': 280901,\n",
      " 'lon': 280901,\n",
      " 'maxlat': 1,\n",
      " 'maxlon': 1,\n",
      " 'minlat': 1,\n",
      " 'minlon': 1,\n",
      " 'osm_base': 1,\n",
      " 'ref': 319093,\n",
      " 'role': 9128,\n",
      " 'timestamp': 311003,\n",
      " 'type': 9128,\n",
      " 'uid': 311003,\n",
      " 'user': 311003,\n",
      " 'v': 99773,\n",
      " 'version': 311004}\n"
     ]
    }
   ],
   "source": [
    "attr_counts = dw.count_att(osmfile)\n",
    "\n",
    "print('Attributes and count in the OSM file: \\n')\n",
    "pprint.pprint(attr_counts)"
   ]
  },
  {
   "cell_type": "markdown",
   "metadata": {},
   "source": [
    "#### These attributes contain some of the key information about user inputs. The ones that we are most interested in are the 'k' tags, but before we continute I am interested in how many unique users have contributed to the data."
   ]
  },
  {
   "cell_type": "code",
   "execution_count": 4,
   "metadata": {},
   "outputs": [
    {
     "name": "stdout",
     "output_type": "stream",
     "text": [
      "Unique users who contributed to the data: \n",
      "\n",
      "421\n"
     ]
    }
   ],
   "source": [
    "unique_users = dw.count_unique_users(osmfile)\n",
    "\n",
    "print('Unique users who contributed to the data: \\n')\n",
    "pprint.pprint(unique_users)"
   ]
  },
  {
   "cell_type": "markdown",
   "metadata": {},
   "source": [
    "#### Interesting, all of these entries from only 421 different users.\n",
    "Now, lets go back to our data set and look at what the K values contain."
   ]
  },
  {
   "cell_type": "code",
   "execution_count": 5,
   "metadata": {},
   "outputs": [
    {
     "name": "stdout",
     "output_type": "stream",
     "text": [
      "('building', 25839)\n",
      "('height', 20883)\n",
      "('addr:street', 14705)\n",
      "('addr:housenumber', 14704)\n",
      "('highway', 4092)\n",
      "('addr:postcode', 3067)\n",
      "('name', 1847)\n",
      "('tiger:cfcc', 907)\n",
      "('tiger:county', 907)\n",
      "('tiger:name_base', 869)\n"
     ]
    }
   ],
   "source": [
    "k_list = dw.k_count(osmfile)\n",
    "\n",
    "kount = Counter(k_list)\n",
    "high_count = kount.most_common(10)\n",
    "for i in high_count:\n",
    "    pprint.pprint((i[0],i[1]))"
   ]
  },
  {
   "cell_type": "markdown",
   "metadata": {},
   "source": [
    "### I chose to supress the main output, and we only view the top k values."
   ]
  },
  {
   "cell_type": "markdown",
   "metadata": {},
   "source": [
    "#### There seem to be quite a few tags with some strange characters that maybe should not go to the JSON file. We will write a function to make sure they do not make it into the JSON.\n",
    "#### One thing that I had noticed after checking out the OSM file is that there are some tags that say 'tiger:'. These seem to contain info that is already in the entry."
   ]
  },
  {
   "cell_type": "code",
   "execution_count": 6,
   "metadata": {},
   "outputs": [
    {
     "name": "stdout",
     "output_type": "stream",
     "text": [
      "Count of problem characters in K tags: \n",
      "\n",
      "{'lower': 58716,\n",
      " 'lower_colon': 40614,\n",
      " 'other': 233,\n",
      " 'problemchars': 0,\n",
      " 'tiger': 210}\n"
     ]
    }
   ],
   "source": [
    "problem_characters = dw.prob_char(osmfile)\n",
    "print('Count of problem characters in K tags: \\n')\n",
    "pprint.pprint(problem_characters)"
   ]
  },
  {
   "cell_type": "markdown",
   "metadata": {},
   "source": [
    "#### Interestingly enough, after trying this a few time, there are over 7000 'tiger:' characters. finding the lowercase colon strings reduces about 7000 of them down."
   ]
  },
  {
   "cell_type": "markdown",
   "metadata": {},
   "source": [
    "From looking at the OSM file file, I have noticed that there are inconsistant street names. Let's take a look at that and see what we can find.\n",
    "We will start by using some street types that I am familiar with, then audit the list after we have more information regarding local naming habits.\n",
    "\n",
    "The 'expected' list is going to allow us to return values that do not match what we 'expected' the names to be.\n",
    "\n",
    "After running the function once, I added more expected street names for the final output."
   ]
  },
  {
   "cell_type": "code",
   "execution_count": 7,
   "metadata": {},
   "outputs": [
    {
     "name": "stdout",
     "output_type": "stream",
     "text": [
      "Irregular Streets:\n",
      "{'1327': {'Farm-to-Market Road 1327', 'FM 1327'},\n",
      " '150': {'S Ih 35 # 150'},\n",
      " '1626': {'FM 1626', 'F.M. 1626', 'Farm-to-Market Road 1626'},\n",
      " '35': {'S Interstate 35', 'South I 35', 'I 35', 'S IH 35'},\n",
      " 'B': {'South Interstate 35, Suite B'},\n",
      " 'C-200': {'9600 IH 35 C-200'},\n",
      " 'Ct': {'Sweetgum Ct'},\n",
      " 'Cv': {'Mock Cherry Cv',\n",
      "        'Morning Primrose Cv',\n",
      "        'Salem Oak Cv',\n",
      "        'Texas Ash Cv'},\n",
      " 'Dr': {'Bill Baker Dr', 'Dave Silk Dr'},\n",
      " 'Ln': {'Buzz Schneider Ln', 'Chick Pea Ln'},\n",
      " 'Rd': {'Tawny Farms Rd'},\n",
      " 'street': {'South 1st street'}}\n"
     ]
    }
   ],
   "source": [
    "print('Irregular Streets:')\n",
    "ireg_str = dw.audit_street_names(osmfile)\n",
    "pprint.pprint(dict(ireg_str))"
   ]
  },
  {
   "cell_type": "markdown",
   "metadata": {},
   "source": [
    "#### Now that we have cut that list down, I can make a dictionary and a function that will allow me to change the names as they go into the JSON file."
   ]
  },
  {
   "cell_type": "markdown",
   "metadata": {},
   "source": [
    "### Phone Numbers\n",
    "Something that I noticed while looking for phone numbers throughout the XML file is that they are not very consistant. Some of them contain dashes, international number markers, and spaces. I want to make them more consistant for the JSON file, so I will make them all the same format."
   ]
  },
  {
   "cell_type": "code",
   "execution_count": 8,
   "metadata": {},
   "outputs": [
    {
     "name": "stdout",
     "output_type": "stream",
     "text": [
      "Total count of phone numbers: 72\n"
     ]
    }
   ],
   "source": [
    "phones = dw.count_phones(osmfile)\n",
    "print('Total count of phone numbers:', phones)"
   ]
  },
  {
   "cell_type": "code",
   "execution_count": 9,
   "metadata": {},
   "outputs": [
    {
     "name": "stdout",
     "output_type": "stream",
     "text": [
      "['5122821326',\n",
      " '5122821326',\n",
      " '+1-512-280-8922',\n",
      " '+1-512-280-8922',\n",
      " '+1 512 295 8166',\n",
      " '+1 512 295 8166',\n",
      " '(512) 295-0247',\n",
      " '(512) 295-0247',\n",
      " '+1 512 312 2383',\n",
      " '+1 512 312 2383',\n",
      " '+1 512 282 2011',\n",
      " '+1 512 282 2011',\n",
      " '(512) 312-0907',\n",
      " '(512) 312-0907',\n",
      " '5122915050',\n",
      " '5122915050',\n",
      " '+1 512 282 2697',\n",
      " '+1 512 282 2697',\n",
      " '+1 512 312 2140',\n",
      " '+1 512 312 2140',\n",
      " '+1 512 295 1687',\n",
      " '+1 512 295 1687',\n",
      " '+1 512 295 1687',\n",
      " '+1 512 295 1687',\n",
      " '+1 512 295 1687',\n",
      " '+1 512 295 1687',\n",
      " '512-712-5661',\n",
      " '512-712-5661',\n",
      " '5125413823',\n",
      " '5125413823',\n",
      " '512-291-8222',\n",
      " '512-291-8222',\n",
      " '(512) 292-1093',\n",
      " '(512) 292-1093',\n",
      " '(512) 961-1834',\n",
      " '(512) 961-1834',\n",
      " '(512) 416-6000',\n",
      " '(512) 416-6000',\n",
      " '+1-512-292-7848',\n",
      " '+1-512-292-7848',\n",
      " '+1 512-888-9223',\n",
      " '+1 512-888-9223',\n",
      " '+1-512-292-6973',\n",
      " '+1-512-292-6973',\n",
      " '(512) 292-9357',\n",
      " '(512) 292-9357',\n",
      " '+1-512-295-1670',\n",
      " '+1-512-295-1670',\n",
      " '(512) 312-1615',\n",
      " '(512) 312-1615',\n",
      " '(512) 295-7286',\n",
      " '(512) 295-7286',\n",
      " '+1 512 295 2188',\n",
      " '+1 512 295 2188',\n",
      " '+1 512 295 7351',\n",
      " '+1 512 295 7351',\n",
      " '+1 512 312 5361',\n",
      " '+1 512 312 5361',\n",
      " '(512) 295-7170',\n",
      " '(512) 295-7170',\n",
      " '(512) 444-0262',\n",
      " '(512) 444-0262',\n",
      " '+1 512 425 0685',\n",
      " '+1 512 425 0685',\n",
      " '1-512-312-0084',\n",
      " '1-512-312-0084',\n",
      " '(512) 295-7170',\n",
      " '(512) 295-7170',\n",
      " '(512) 295-7170',\n",
      " '(512) 295-7170',\n",
      " '+1-512-593-4445',\n",
      " '+1-512-593-4445']\n"
     ]
    }
   ],
   "source": [
    "list_of_phones = dw.print_phones(osmfile)\n",
    "pprint.pprint(list_of_phones)"
   ]
  },
  {
   "cell_type": "markdown",
   "metadata": {},
   "source": [
    "### A function is then created to change the phone numbers to the same format."
   ]
  },
  {
   "cell_type": "code",
   "execution_count": 10,
   "metadata": {},
   "outputs": [
    {
     "name": "stdout",
     "output_type": "stream",
     "text": [
      "JSON File Created\n"
     ]
    }
   ],
   "source": [
    "dw.process_map(osmfile, pretty = False);\n",
    "print('JSON File Created')"
   ]
  },
  {
   "cell_type": "markdown",
   "metadata": {},
   "source": [
    "## The JSON file is now created\n",
    "I chose to supress the output, since it is a very long run of dictionaries.\n",
    "Each node now has this format:"
   ]
  },
  {
   "cell_type": "markdown",
   "metadata": {},
   "source": [
    "> {\n",
    "\"id\": \"2406124091\",\n",
    "\"type: \"node\",\n",
    "\"visible\":\"true\",\n",
    "\"created\": {\n",
    "          \"version\":\"2\",\n",
    "          \"changeset\":\"17206049\",\n",
    "          \"timestamp\":\"2013-08-03T16:43:42Z\",\n",
    "          \"user\":\"linuxUser16\",\n",
    "          \"uid\":\"1219059\"\n",
    "        },\n",
    "\"pos\": [41.9757030, -87.6921867],\n",
    "\"address\": {\n",
    "          \"housenumber\": \"5157\",\n",
    "          \"postcode\": \"60625\",\n",
    "          \"street\": \"North Lincoln Ave\"\n",
    "        },\n",
    "\"amenity\": \"restaurant\",\n",
    "\"cuisine\": \"mexican\",\n",
    "\"name\": \"La Cabana De Don Luis\",\n",
    "\"phone\": \"1 (773)-271-5176\"\n",
    "}"
   ]
  },
  {
   "cell_type": "markdown",
   "metadata": {},
   "source": [
    "#### The JSON file as been uploaded to MongoDB Atlas, and now we will utilize PyMongo to query the database."
   ]
  },
  {
   "cell_type": "code",
   "execution_count": 12,
   "metadata": {},
   "outputs": [],
   "source": [
    "client = MongoClient('mongodb+srv://<username>:<pass>@cluster0-66blm.mongodb.net/test?retryWrites=true&w=majority')"
   ]
  },
  {
   "cell_type": "markdown",
   "metadata": {},
   "source": [
    "#### This has connected us to the database, we can now name our variables for querying"
   ]
  },
  {
   "cell_type": "code",
   "execution_count": 13,
   "metadata": {},
   "outputs": [],
   "source": [
    "db = client.UDClassExtr\n",
    "collection = db.Austin"
   ]
  },
  {
   "cell_type": "markdown",
   "metadata": {},
   "source": [
    "#### Let's find out how may node and way tags are contained in the database:"
   ]
  },
  {
   "cell_type": "code",
   "execution_count": 14,
   "metadata": {},
   "outputs": [
    {
     "data": {
      "text/plain": [
       "280901"
      ]
     },
     "execution_count": 14,
     "metadata": {},
     "output_type": "execute_result"
    }
   ],
   "source": [
    "collection.count_documents({'type':'node'})"
   ]
  },
  {
   "cell_type": "code",
   "execution_count": 15,
   "metadata": {},
   "outputs": [
    {
     "data": {
      "text/plain": [
       "29971"
      ]
     },
     "execution_count": 15,
     "metadata": {},
     "output_type": "execute_result"
    }
   ],
   "source": [
    "collection.count_documents({'type':'way'})"
   ]
  },
  {
   "cell_type": "markdown",
   "metadata": {},
   "source": [
    "#### How many neighbourhoods? What are their names?"
   ]
  },
  {
   "cell_type": "code",
   "execution_count": 16,
   "metadata": {},
   "outputs": [
    {
     "data": {
      "text/plain": [
       "19"
      ]
     },
     "execution_count": 16,
     "metadata": {},
     "output_type": "execute_result"
    }
   ],
   "source": [
    "collection.count_documents({'place':'neighbourhood'})"
   ]
  },
  {
   "cell_type": "code",
   "execution_count": 17,
   "metadata": {},
   "outputs": [
    {
     "name": "stdout",
     "output_type": "stream",
     "text": [
      "{'name': 'Tanglewood Forest'}\n",
      "{'name': 'Shady Hollow'}\n",
      "{'name': 'Ford Oaks'}\n",
      "{'name': 'South Bend'}\n",
      "{'name': 'Stone Creek Ranch'}\n",
      "{'name': 'Crossings at Onion Creek'}\n",
      "{'name': 'Perkins Valley'}\n",
      "{'name': 'Southpark Meadows'}\n",
      "{'name': 'Park Ridge'}\n",
      "{'name': 'Saddlewood Estates'}\n",
      "{'name': 'Bauerle Ranch'}\n",
      "{'name': 'Bluff Springs Estates'}\n",
      "{'name': 'Stablewood at Slaughter Creek'}\n",
      "{'name': 'Meadows at Double Creek'}\n",
      "{'name': 'Ashbrook'}\n",
      "{'name': 'Olympic Heights'}\n",
      "{'name': 'Hillcrest'}\n",
      "{'name': 'Canterbury Trails'}\n",
      "{'name': 'Searight Village'}\n"
     ]
    }
   ],
   "source": [
    "for col in collection.find({'place':'neighbourhood'},{'_id': 0, 'name': 1}):\n",
    "    pprint.pprint(col)"
   ]
  },
  {
   "cell_type": "markdown",
   "metadata": {},
   "source": [
    "### How many restuarants are in the area, and what are their names and locations?"
   ]
  },
  {
   "cell_type": "code",
   "execution_count": 18,
   "metadata": {},
   "outputs": [
    {
     "data": {
      "text/plain": [
       "7"
      ]
     },
     "execution_count": 18,
     "metadata": {},
     "output_type": "execute_result"
    }
   ],
   "source": [
    "collection.count_documents({'amenity':'restaurant'})"
   ]
  },
  {
   "cell_type": "code",
   "execution_count": 19,
   "metadata": {},
   "outputs": [
    {
     "name": "stdout",
     "output_type": "stream",
     "text": [
      "{'name': 'Bill Miller Bar-BQ'}\n",
      "{'address': {'housenumber': '9300', 'street': 'South I-35 Service SB'},\n",
      " 'name': 'Thai Passion - South'}\n",
      "{'address': {'housenumber': '1671', 'street': 'Main Street'},\n",
      " 'name': 'IM Thai Cuisine Buda'}\n",
      "{'name': 'Pizza Hut'}\n",
      "{'address': {'city': 'Buda', 'housenumber': '824', 'street': 'Main Street'},\n",
      " 'name': \"Willie's Joint BBQ\"}\n",
      "{'address': {'housenumber': '9500', 'street': 'Interstate 35 Frontage Road'},\n",
      " 'name': 'Serranos Cocina y Cantina'}\n",
      "{'name': 'Bill Miller Bar-B-Q'}\n"
     ]
    }
   ],
   "source": [
    "for col in collection.find({'amenity':'restaurant'},{'_id': 0, 'name': 1, 'address': 1}):\n",
    "    pprint.pprint(col)"
   ]
  },
  {
   "cell_type": "markdown",
   "metadata": {},
   "source": [
    "#### There were a few duplicates, with further auditing those could be removed."
   ]
  },
  {
   "cell_type": "markdown",
   "metadata": {},
   "source": [
    "Thoughts on the dataset\n",
    "\n",
    "I think that the OSM dataset would benefit from more validation and QC when the users are inputting entries into the system. For example, the phone number listings should have a standardized format. Possibley, they could find some way to keep the 'tiger:' entries from being present. I know that this can be a very big issue when it comes to user generated data.\n",
    "\n",
    "The dataset would also benefit from a validation system to weed out duplicate entries before they make it into the system.\n"
   ]
  },
  {
   "cell_type": "markdown",
   "metadata": {},
   "source": [
    "### References\n",
    "- Pymongo Commands: http://zetcode.com/python/pymongo/\n",
    "- Markdown for Jupyter: https://medium.com/ibm-data-science-experience/markdown-for-jupyter-notebooks-cheatsheet-386c05aeebed\n",
    "- https://docs.python.org/3/library/re.html\n",
    "- https://effbot.org/zone/celementtree.html\n",
    "- https://wiki.openstreetmap.org/wiki/Main_Page"
   ]
  }
 ],
 "metadata": {
  "kernelspec": {
   "display_name": "Python 3",
   "language": "python",
   "name": "python3"
  },
  "language_info": {
   "codemirror_mode": {
    "name": "ipython",
    "version": 3
   },
   "file_extension": ".py",
   "mimetype": "text/x-python",
   "name": "python",
   "nbconvert_exporter": "python",
   "pygments_lexer": "ipython3",
   "version": "3.7.4"
  }
 },
 "nbformat": 4,
 "nbformat_minor": 2
}
