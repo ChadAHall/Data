{
 "cells": [
  {
   "cell_type": "code",
   "execution_count": 41,
   "metadata": {},
   "outputs": [],
   "source": [
    "import sys\n",
    "import poi_id as pid\n",
    "import pprint\n",
    "import pandas as pd\n",
    "import numpy as np\n",
    "import matplotlib\n",
    "import feature_format as ff\n",
    "%matplotlib inline\n",
    "from collections import defaultdict\n",
    "from outlier_plotter import plot_out\n",
    "from sklearn.pipeline import Pipeline\n",
    "from sklearn.model_selection import GridSearchCV\n",
    "from sklearn.decomposition import PCA\n",
    "from sklearn.model_selection import train_test_split"
   ]
  },
  {
   "cell_type": "code",
   "execution_count": 2,
   "metadata": {},
   "outputs": [],
   "source": [
    "enron_data = pid.load_dataset()"
   ]
  },
  {
   "cell_type": "markdown",
   "metadata": {},
   "source": [
    "## Lets take a look at how the data is laid out, which is in a nested dictionary."
   ]
  },
  {
   "cell_type": "code",
   "execution_count": 3,
   "metadata": {},
   "outputs": [
    {
     "name": "stdout",
     "output_type": "stream",
     "text": [
      "('METTS MARK',\n",
      " {'bonus': 600000,\n",
      "  'deferral_payments': 'NaN',\n",
      "  'deferred_income': 'NaN',\n",
      "  'director_fees': 'NaN',\n",
      "  'email_address': 'mark.metts@enron.com',\n",
      "  'exercised_stock_options': 'NaN',\n",
      "  'expenses': 94299,\n",
      "  'from_messages': 29,\n",
      "  'from_poi_to_this_person': 38,\n",
      "  'from_this_person_to_poi': 1,\n",
      "  'loan_advances': 'NaN',\n",
      "  'long_term_incentive': 'NaN',\n",
      "  'other': 1740,\n",
      "  'poi': False,\n",
      "  'restricted_stock': 585062,\n",
      "  'restricted_stock_deferred': 'NaN',\n",
      "  'salary': 365788,\n",
      "  'shared_receipt_with_poi': 702,\n",
      "  'to_messages': 807,\n",
      "  'total_payments': 1061827,\n",
      "  'total_stock_value': 585062})\n"
     ]
    }
   ],
   "source": [
    "pprint.pprint(next(iter(enron_data.items())))"
   ]
  },
  {
   "cell_type": "markdown",
   "metadata": {},
   "source": [
    "## We will check and see how many people are in the dataset."
   ]
  },
  {
   "cell_type": "code",
   "execution_count": 4,
   "metadata": {},
   "outputs": [
    {
     "data": {
      "text/plain": [
       "146"
      ]
     },
     "execution_count": 4,
     "metadata": {},
     "output_type": "execute_result"
    }
   ],
   "source": [
    "len(enron_data)"
   ]
  },
  {
   "cell_type": "markdown",
   "metadata": {},
   "source": [
    "## Let's see how many POI are in the dataset."
   ]
  },
  {
   "cell_type": "code",
   "execution_count": 5,
   "metadata": {},
   "outputs": [
    {
     "data": {
      "text/plain": [
       "18"
      ]
     },
     "execution_count": 5,
     "metadata": {},
     "output_type": "execute_result"
    }
   ],
   "source": [
    "len([p for p in enron_data.values() if p['poi']])"
   ]
  },
  {
   "cell_type": "code",
   "execution_count": 6,
   "metadata": {},
   "outputs": [
    {
     "name": "stdout",
     "output_type": "stream",
     "text": [
      "0.1232876712328767\n"
     ]
    }
   ],
   "source": [
    "print(18/146)"
   ]
  },
  {
   "cell_type": "markdown",
   "metadata": {},
   "source": [
    "## So there are 18 POI in the list out of 146 entries. That is 12% of the data.\n",
    "This is not a lot to go off of, but it is the best that we have."
   ]
  },
  {
   "cell_type": "markdown",
   "metadata": {},
   "source": [
    "## Next we will check how many entries there are in the POI names list, which includes all of the POIs"
   ]
  },
  {
   "cell_type": "code",
   "execution_count": 7,
   "metadata": {},
   "outputs": [
    {
     "name": "stdout",
     "output_type": "stream",
     "text": [
      "35\n"
     ]
    }
   ],
   "source": [
    "with open('poi_names.txt', 'rb') as f:\n",
    "    print(len(f.readlines()[2:]))\n",
    "    f.close()"
   ]
  },
  {
   "cell_type": "markdown",
   "metadata": {},
   "source": [
    "# Task One: Feature Selection"
   ]
  },
  {
   "cell_type": "markdown",
   "metadata": {},
   "source": [
    "## Overview of available features:\n",
    "### Financial Portion\n",
    "- Salary - Items such as base salary, cash allowanves, benefits.\n",
    "- Bonus - Annual cash incentives paid. Retention payments.\n",
    "- Long Term Incentive - Cash payments from various long term incentive programs.\n",
    "- Deferred Income - Voluntary executive deferalls of salary.\n",
    "- Deferral Payments - Reflects distributions from a deferred compensation arrangement due to termination.\n",
    "- Loan Advances - Reflects total amount of loan advances excluding repayments.\n",
    "- Other - Items such as payments for severence, consulting, relocation, tax advances, allowances for internaional assignments\n",
    "- Expenses - Reimbursements of business expenses.\n",
    "- Director Fees - Cash payments and/or stock grants made to non-employee directors\n",
    "- Exercised Stock Options - Amounts from exercised stock options which equal the markey value in excess of the exercise price\n",
    "- Restricted Stock Options - Gross fair market value of shares and accrued dividends\n",
    "- Restricted Stock Deferred - Value of restricted stock voluntarily deferred prior to release\n",
    "\n",
    "### E-Mail Portion\n",
    "- To Messages - Count of messages sent to person.\n",
    "- From Messages - Count of messages sent by person.\n",
    "- From This Person to POI - \n",
    "- Email Address- \n",
    "- From POI to This Person- \n",
    "- Shared Receipt With POI- "
   ]
  },
  {
   "cell_type": "markdown",
   "metadata": {},
   "source": [
    "### There are many features to choose from, so we will need to narrow them down.\n",
    "I want to try and use the features that are not missing too many values. Let's go ahead and check the proportion of missing values for each feature."
   ]
  },
  {
   "cell_type": "code",
   "execution_count": 8,
   "metadata": {},
   "outputs": [
    {
     "name": "stdout",
     "output_type": "stream",
     "text": [
      "{'bonus': 0.438,\n",
      " 'deferral_payments': 0.733,\n",
      " 'deferred_income': 0.664,\n",
      " 'director_fees': 0.884,\n",
      " 'email_address': 0.24,\n",
      " 'exercised_stock_options': 0.301,\n",
      " 'expenses': 0.349,\n",
      " 'from_messages': 0.411,\n",
      " 'from_poi_to_this_person': 0.411,\n",
      " 'from_this_person_to_poi': 0.411,\n",
      " 'loan_advances': 0.973,\n",
      " 'long_term_incentive': 0.548,\n",
      " 'other': 0.363,\n",
      " 'restricted_stock': 0.247,\n",
      " 'restricted_stock_deferred': 0.877,\n",
      " 'salary': 0.349,\n",
      " 'shared_receipt_with_poi': 0.411,\n",
      " 'to_messages': 0.411,\n",
      " 'total_payments': 0.144,\n",
      " 'total_stock_value': 0.137}\n"
     ]
    }
   ],
   "source": [
    "missing_values = defaultdict(int)\n",
    "feature_missing_check = next(iter(enron_data.values())).keys()\n",
    "for person in iter(enron_data.values()):\n",
    "    for feature in feature_missing_check:\n",
    "        if person[feature] == 'NaN':\n",
    "            missing_values[feature] += 1\n",
    "missing_values = {k:round(v/len(enron_data), 3) for k,v in iter(missing_values.items())}\n",
    "pprint.pprint(missing_values)"
   ]
  },
  {
   "cell_type": "markdown",
   "metadata": {},
   "source": [
    "### It looks like we can get a good number of features that are have greater than 50% of their data."
   ]
  },
  {
   "cell_type": "code",
   "execution_count": 9,
   "metadata": {},
   "outputs": [
    {
     "name": "stdout",
     "output_type": "stream",
     "text": [
      "['exercised_stock_options',\n",
      " 'to_messages',\n",
      " 'email_address',\n",
      " 'from_poi_to_this_person',\n",
      " 'from_messages',\n",
      " 'from_this_person_to_poi',\n",
      " 'shared_receipt_with_poi',\n",
      " 'salary',\n",
      " 'total_payments',\n",
      " 'bonus',\n",
      " 'expenses',\n",
      " 'other',\n",
      " 'restricted_stock',\n",
      " 'total_stock_value']\n"
     ]
    }
   ],
   "source": [
    "pprint.pprint([key for key, value in iter(missing_values.items()) if value < 0.5])"
   ]
  },
  {
   "cell_type": "code",
   "execution_count": 10,
   "metadata": {},
   "outputs": [
    {
     "data": {
      "text/plain": [
       "['poi']"
      ]
     },
     "execution_count": 10,
     "metadata": {},
     "output_type": "execute_result"
    }
   ],
   "source": [
    "pid.features_list"
   ]
  },
  {
   "cell_type": "code",
   "execution_count": 11,
   "metadata": {},
   "outputs": [],
   "source": [
    "feature_addition = ([key for key, value in iter(missing_values.items()) if value < 0.5])"
   ]
  },
  {
   "cell_type": "code",
   "execution_count": 12,
   "metadata": {},
   "outputs": [],
   "source": [
    "pid.features_list.extend(feature_addition)"
   ]
  },
  {
   "cell_type": "code",
   "execution_count": 13,
   "metadata": {},
   "outputs": [
    {
     "name": "stdout",
     "output_type": "stream",
     "text": [
      "['poi',\n",
      " 'exercised_stock_options',\n",
      " 'to_messages',\n",
      " 'email_address',\n",
      " 'from_poi_to_this_person',\n",
      " 'from_messages',\n",
      " 'from_this_person_to_poi',\n",
      " 'shared_receipt_with_poi',\n",
      " 'salary',\n",
      " 'total_payments',\n",
      " 'bonus',\n",
      " 'expenses',\n",
      " 'other',\n",
      " 'restricted_stock',\n",
      " 'total_stock_value']\n"
     ]
    }
   ],
   "source": [
    "pprint.pprint(pid.features_list)"
   ]
  },
  {
   "cell_type": "markdown",
   "metadata": {},
   "source": [
    "### Now we have a list containing all of the features that have greater than 50% of not null values, and also our key feature POI as the first feature in the list."
   ]
  },
  {
   "cell_type": "markdown",
   "metadata": {},
   "source": [
    "# Task Two: Outlier Identification\n",
    "### From here we will go ahead and identify outliers that we want to cut from the data\n",
    "### I have imported a plotting function that I made in another python file"
   ]
  },
  {
   "cell_type": "code",
   "execution_count": 14,
   "metadata": {},
   "outputs": [
    {
     "data": {
      "image/png": "[encoded data removed]",
      "text/plain": [
       "<Figure size 432x288 with 1 Axes>"
      ]
     },
     "metadata": {
      "needs_background": "light"
     },
     "output_type": "display_data"
    }
   ],
   "source": [
    "plot_out(enron_data, 'salary', 'bonus')"
   ]
  },
  {
   "cell_type": "code",
   "execution_count": 15,
   "metadata": {},
   "outputs": [
    {
     "data": {
      "image/png": "[encoded data removed]",
      "text/plain": [
       "<Figure size 432x288 with 1 Axes>"
      ]
     },
     "metadata": {
      "needs_background": "light"
     },
     "output_type": "display_data"
    }
   ],
   "source": [
    "plot_out(enron_data, 'salary', 'total_payments')"
   ]
  },
  {
   "cell_type": "code",
   "execution_count": 16,
   "metadata": {},
   "outputs": [
    {
     "data": {
      "image/png": "[encoded data removed]",
      "text/plain": [
       "<Figure size 432x288 with 1 Axes>"
      ]
     },
     "metadata": {
      "needs_background": "light"
     },
     "output_type": "display_data"
    }
   ],
   "source": [
    "plot_out(enron_data, 'salary', 'total_stock_value')"
   ]
  },
  {
   "cell_type": "markdown",
   "metadata": {},
   "source": [
    "### There seems to be a trend here. In every graph there is a very huge outlier. Upon further investigation of the data, this seems to be the 'Total' field. This is the values from each column added up. No wonder it is an outlier. WE will need to remove it. Also, there is a very strange entry speaking of a travel agency. We will go ahead and remove that also."
   ]
  },
  {
   "cell_type": "code",
   "execution_count": 17,
   "metadata": {},
   "outputs": [
    {
     "data": {
      "text/plain": [
       "{'salary': 26704229,\n",
       " 'to_messages': 'NaN',\n",
       " 'deferral_payments': 32083396,\n",
       " 'total_payments': 309886585,\n",
       " 'loan_advances': 83925000,\n",
       " 'bonus': 97343619,\n",
       " 'email_address': 'NaN',\n",
       " 'restricted_stock_deferred': -7576788,\n",
       " 'deferred_income': -27992891,\n",
       " 'total_stock_value': 434509511,\n",
       " 'expenses': 5235198,\n",
       " 'from_poi_to_this_person': 'NaN',\n",
       " 'exercised_stock_options': 311764000,\n",
       " 'from_messages': 'NaN',\n",
       " 'other': 42667589,\n",
       " 'from_this_person_to_poi': 'NaN',\n",
       " 'poi': False,\n",
       " 'long_term_incentive': 48521928,\n",
       " 'shared_receipt_with_poi': 'NaN',\n",
       " 'restricted_stock': 130322299,\n",
       " 'director_fees': 1398517}"
      ]
     },
     "execution_count": 17,
     "metadata": {},
     "output_type": "execute_result"
    }
   ],
   "source": [
    "enron_data.pop('TOTAL', 0)"
   ]
  },
  {
   "cell_type": "code",
   "execution_count": 18,
   "metadata": {},
   "outputs": [
    {
     "data": {
      "text/plain": [
       "{'salary': 'NaN',\n",
       " 'to_messages': 'NaN',\n",
       " 'deferral_payments': 'NaN',\n",
       " 'total_payments': 362096,\n",
       " 'loan_advances': 'NaN',\n",
       " 'bonus': 'NaN',\n",
       " 'email_address': 'NaN',\n",
       " 'restricted_stock_deferred': 'NaN',\n",
       " 'deferred_income': 'NaN',\n",
       " 'total_stock_value': 'NaN',\n",
       " 'expenses': 'NaN',\n",
       " 'from_poi_to_this_person': 'NaN',\n",
       " 'exercised_stock_options': 'NaN',\n",
       " 'from_messages': 'NaN',\n",
       " 'other': 362096,\n",
       " 'from_this_person_to_poi': 'NaN',\n",
       " 'poi': False,\n",
       " 'long_term_incentive': 'NaN',\n",
       " 'shared_receipt_with_poi': 'NaN',\n",
       " 'restricted_stock': 'NaN',\n",
       " 'director_fees': 'NaN'}"
      ]
     },
     "execution_count": 18,
     "metadata": {},
     "output_type": "execute_result"
    }
   ],
   "source": [
    "enron_data.pop('THE TRAVEL AGENCY IN THE PARK', 0)"
   ]
  },
  {
   "cell_type": "markdown",
   "metadata": {},
   "source": [
    "## Task Three: Create New Features\n",
    "### By creating new features from exisitng features, we are able to create new and exciting ways to explore the data. Let's see if we can find any information that is going to help us out."
   ]
  },
  {
   "cell_type": "code",
   "execution_count": 19,
   "metadata": {},
   "outputs": [],
   "source": [
    "new_feature_func = [pid.from_poi, pid.to_poi, pid.shared_poi]\n",
    "pid.new_feature_data(enron_data, new_feature_func);"
   ]
  },
  {
   "cell_type": "code",
   "execution_count": 20,
   "metadata": {},
   "outputs": [
    {
     "name": "stdout",
     "output_type": "stream",
     "text": [
      "['poi',\n",
      " 'exercised_stock_options',\n",
      " 'to_messages',\n",
      " 'email_address',\n",
      " 'from_poi_to_this_person',\n",
      " 'from_messages',\n",
      " 'from_this_person_to_poi',\n",
      " 'shared_receipt_with_poi',\n",
      " 'salary',\n",
      " 'total_payments',\n",
      " 'bonus',\n",
      " 'expenses',\n",
      " 'other',\n",
      " 'restricted_stock',\n",
      " 'total_stock_value']\n"
     ]
    }
   ],
   "source": [
    "pprint.pprint(pid.features_list)"
   ]
  },
  {
   "cell_type": "code",
   "execution_count": 21,
   "metadata": {},
   "outputs": [],
   "source": [
    "new_feature_list = pid.features_list"
   ]
  },
  {
   "cell_type": "code",
   "execution_count": 22,
   "metadata": {},
   "outputs": [
    {
     "data": {
      "text/plain": [
       "['poi',\n",
       " 'exercised_stock_options',\n",
       " 'to_messages',\n",
       " 'email_address',\n",
       " 'from_poi_to_this_person',\n",
       " 'from_messages',\n",
       " 'from_this_person_to_poi',\n",
       " 'shared_receipt_with_poi',\n",
       " 'salary',\n",
       " 'total_payments',\n",
       " 'bonus',\n",
       " 'expenses',\n",
       " 'other',\n",
       " 'restricted_stock',\n",
       " 'total_stock_value']"
      ]
     },
     "execution_count": 22,
     "metadata": {},
     "output_type": "execute_result"
    }
   ],
   "source": [
    "new_feature_list"
   ]
  },
  {
   "cell_type": "code",
   "execution_count": 23,
   "metadata": {},
   "outputs": [
    {
     "data": {
      "text/plain": [
       "'total_stock_value'"
      ]
     },
     "execution_count": 23,
     "metadata": {},
     "output_type": "execute_result"
    }
   ],
   "source": [
    "new_feature_list.pop()"
   ]
  },
  {
   "cell_type": "code",
   "execution_count": 24,
   "metadata": {},
   "outputs": [
    {
     "data": {
      "text/plain": [
       "'restricted_stock'"
      ]
     },
     "execution_count": 24,
     "metadata": {},
     "output_type": "execute_result"
    }
   ],
   "source": [
    "new_feature_list.pop()"
   ]
  },
  {
   "cell_type": "code",
   "execution_count": 25,
   "metadata": {},
   "outputs": [
    {
     "data": {
      "text/plain": [
       "'other'"
      ]
     },
     "execution_count": 25,
     "metadata": {},
     "output_type": "execute_result"
    }
   ],
   "source": [
    "new_feature_list.pop()"
   ]
  },
  {
   "cell_type": "code",
   "execution_count": 26,
   "metadata": {},
   "outputs": [
    {
     "data": {
      "text/plain": [
       "['poi',\n",
       " 'exercised_stock_options',\n",
       " 'to_messages',\n",
       " 'email_address',\n",
       " 'from_poi_to_this_person',\n",
       " 'from_messages',\n",
       " 'from_this_person_to_poi',\n",
       " 'shared_receipt_with_poi',\n",
       " 'salary',\n",
       " 'total_payments',\n",
       " 'bonus',\n",
       " 'expenses']"
      ]
     },
     "execution_count": 26,
     "metadata": {},
     "output_type": "execute_result"
    }
   ],
   "source": [
    "new_feature_list"
   ]
  },
  {
   "cell_type": "code",
   "execution_count": 27,
   "metadata": {},
   "outputs": [],
   "source": [
    "new_feature_list.append('fraction_from_poi')"
   ]
  },
  {
   "cell_type": "code",
   "execution_count": 28,
   "metadata": {},
   "outputs": [],
   "source": [
    "new_feature_list.append('fraction_to_poi')"
   ]
  },
  {
   "cell_type": "code",
   "execution_count": 29,
   "metadata": {},
   "outputs": [],
   "source": [
    "new_feature_list.append('fraction_shared')"
   ]
  },
  {
   "cell_type": "code",
   "execution_count": 30,
   "metadata": {},
   "outputs": [
    {
     "data": {
      "text/plain": [
       "['poi',\n",
       " 'exercised_stock_options',\n",
       " 'to_messages',\n",
       " 'email_address',\n",
       " 'from_poi_to_this_person',\n",
       " 'from_messages',\n",
       " 'from_this_person_to_poi',\n",
       " 'shared_receipt_with_poi',\n",
       " 'salary',\n",
       " 'total_payments',\n",
       " 'bonus',\n",
       " 'expenses',\n",
       " 'fraction_from_poi',\n",
       " 'fraction_to_poi',\n",
       " 'fraction_shared']"
      ]
     },
     "execution_count": 30,
     "metadata": {},
     "output_type": "execute_result"
    }
   ],
   "source": [
    "new_feature_list"
   ]
  },
  {
   "cell_type": "code",
   "execution_count": 31,
   "metadata": {},
   "outputs": [],
   "source": [
    "new_feature_list.remove('email_address')"
   ]
  },
  {
   "cell_type": "code",
   "execution_count": 32,
   "metadata": {},
   "outputs": [],
   "source": [
    "from sklearn import feature_selection\n",
    "selector = feature_selection.SelectKBest(score_func = feature_selection.f_classif, k = 'all')\n",
    "labels, features = pid.feature_extractor(enron_data, new_feature_list)"
   ]
  },
  {
   "cell_type": "code",
   "execution_count": 33,
   "metadata": {},
   "outputs": [
    {
     "name": "stdout",
     "output_type": "stream",
     "text": [
      "[(24.25047235452619, 'exercised_stock_options'),\n",
      " (20.25718499812395, 'bonus'),\n",
      " (17.71787357924329, 'salary'),\n",
      " (15.946248696687658, 'fraction_to_poi'),\n",
      " (8.712174034323999, 'fraction_shared'),\n",
      " (8.570823078730978, 'total_payments'),\n",
      " (8.276138216260644, 'shared_receipt_with_poi'),\n",
      " (5.815328001904854, 'expenses'),\n",
      " (5.041257378669385, 'from_poi_to_this_person'),\n",
      " (2.9639903149261824, 'fraction_from_poi'),\n",
      " (2.295183195738003, 'from_this_person_to_poi'),\n",
      " (1.5425809046549228, 'to_messages'),\n",
      " (0.18121500856156128, 'from_messages')]\n"
     ]
    }
   ],
   "source": [
    "selector.fit(features, labels)\n",
    "pprint.pprint(sorted(zip(selector.scores_, new_feature_list[1:]), reverse = True))"
   ]
  },
  {
   "cell_type": "markdown",
   "metadata": {},
   "source": [
    "## I will go ahead and drop the lowest 3 scores"
   ]
  },
  {
   "cell_type": "code",
   "execution_count": 34,
   "metadata": {},
   "outputs": [],
   "source": [
    "new_feature_list.remove('from_messages')\n",
    "new_feature_list.remove('to_messages')\n",
    "new_feature_list.remove('from_this_person_to_poi')"
   ]
  },
  {
   "cell_type": "code",
   "execution_count": 35,
   "metadata": {},
   "outputs": [
    {
     "data": {
      "text/plain": [
       "['poi',\n",
       " 'exercised_stock_options',\n",
       " 'from_poi_to_this_person',\n",
       " 'shared_receipt_with_poi',\n",
       " 'salary',\n",
       " 'total_payments',\n",
       " 'bonus',\n",
       " 'expenses',\n",
       " 'fraction_from_poi',\n",
       " 'fraction_to_poi',\n",
       " 'fraction_shared']"
      ]
     },
     "execution_count": 35,
     "metadata": {},
     "output_type": "execute_result"
    }
   ],
   "source": [
    "new_feature_list"
   ]
  },
  {
   "cell_type": "markdown",
   "metadata": {},
   "source": [
    "### Store to my_dataset for easy testing"
   ]
  },
  {
   "cell_type": "code",
   "execution_count": 36,
   "metadata": {},
   "outputs": [],
   "source": [
    "my_dataset = enron_data"
   ]
  },
  {
   "cell_type": "code",
   "execution_count": 39,
   "metadata": {},
   "outputs": [],
   "source": [
    "data = ff.featureFormat(my_dataset, new_feature_list, sort_keys = True)\n",
    "labels, features = ff.targetFeatureSplit(data)"
   ]
  },
  {
   "cell_type": "code",
   "execution_count": null,
   "metadata": {},
   "outputs": [],
   "source": []
  }
 ],
 "metadata": {
  "kernelspec": {
   "display_name": "Python 3",
   "language": "python",
   "name": "python3"
  },
  "language_info": {
   "codemirror_mode": {
    "name": "ipython",
    "version": 3
   },
   "file_extension": ".py",
   "mimetype": "text/x-python",
   "name": "python",
   "nbconvert_exporter": "python",
   "pygments_lexer": "ipython3",
   "version": "3.7.4"
  }
 },
 "nbformat": 4,
 "nbformat_minor": 2
}
